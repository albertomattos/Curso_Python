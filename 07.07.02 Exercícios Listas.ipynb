{
 "cells": [
  {
   "cell_type": "markdown",
   "metadata": {},
   "source": [
    "# Exercícios\n",
    "\n",
    "## 1. Faturamento do Melhor e do Pior Mês do Ano\n",
    "\n",
    "Qual foi o valor de vendas do melhor mês do Ano?\n",
    "E valor do pior mês do ano?"
   ]
  },
  {
   "cell_type": "code",
   "execution_count": 85,
   "metadata": {},
   "outputs": [
    {
     "name": "stdout",
     "output_type": "stream",
     "text": [
      "[25000, 29000, 22200, 17750, 15870, 19900]\n",
      "Melhor mês do ano foi: nov, com 49051 vendas.\n",
      "Pior mês do ano foi: dez, com 9650 vendas.\n",
      "[25000, 29000, 22200, 17750, 15870, 19900, 19850, 20120, 17540, 15555, 49051, 9650]\n",
      "[25000, 29000, 40000, 17750, 15870, 19900]\n",
      "[25000, 29000, 40000, 17750, 15870, 19900]\n",
      "[25000, 29000, 22200, 17750, 15870, 19900]\n",
      "[25000, 29000, 22200, 17750, 15870, 19900]\n"
     ]
    }
   ],
   "source": [
    "meses = ['jan', 'fev', 'mar', 'abr', 'mai', 'jun', 'jul', 'ago', 'set', 'out', 'nov', 'dez']\n",
    "vendas_1sem = [25000, 29000, 22200, 17750, 15870, 19900]\n",
    "vendas_2sem = [19850, 20120, 17540, 15555, 49051, 9650]\n",
    "vendas = vendas_1sem + vendas_2sem\n",
    "vendas3 = vendas_1sem #só aponta vendas3 para vendas_1sem\n",
    "vendas4 = vendas_1sem.copy() #copia a lista para outra lista distinta\n",
    "vendas5 = vendas_1sem[:]\n",
    "print(vendas3)\n",
    "print(f'Melhor mês do ano foi: {meses[vendas.index(max(vendas))]}, com {max(vendas)} vendas.')\n",
    "print(f'Pior mês do ano foi: {meses[vendas.index(min(vendas))]}, com {min(vendas)} vendas.')\n",
    "\n",
    "vendas_1sem[2] = 40000\n",
    "print(vendas)\n",
    "print(vendas_1sem)\n",
    "print(vendas3)\n",
    "print(vendas4)\n",
    "print(vendas5)"
   ]
  },
  {
   "cell_type": "markdown",
   "metadata": {},
   "source": [
    "## 2. Continuação\n",
    "\n",
    "Agora relacione as duas listas para printar 'O melhor mês do ano foi {} com {} vendas' e o mesmo para o pior mês do ano.\n",
    "\n",
    "Calcule também o faturamento total do Ano e quanto que o melhor mês representou do faturamento total.\n",
    "\n",
    "Obs: Para o faturamento total, pode usar a função sum(lista) que soma todos os itens de uma lista"
   ]
  },
  {
   "cell_type": "code",
   "execution_count": 73,
   "metadata": {},
   "outputs": [
    {
     "name": "stdout",
     "output_type": "stream",
     "text": [
      "O faturamento total foi de 261486 vendas.\n",
      "O melhor mês do ano representa 18.76% sobre o faturamento total.\n"
     ]
    }
   ],
   "source": [
    "print(f'O faturamento total foi de {sum(vendas)} vendas.')\n",
    "print(f'O melhor mês do ano representa {round(max(vendas)/sum(vendas)*100,2)}% sobre o faturamento total.')"
   ]
  },
  {
   "cell_type": "markdown",
   "metadata": {},
   "source": [
    "## 3. Crie uma lista com o top 3 valores de vendas do ano (sem fazer \"no olho\")\n",
    "\n",
    "Dica: o método remove retira um item da lista."
   ]
  },
  {
   "cell_type": "code",
   "execution_count": 75,
   "metadata": {},
   "outputs": [
    {
     "name": "stdout",
     "output_type": "stream",
     "text": [
      "[25000, 29000, 49051]\n"
     ]
    }
   ],
   "source": [
    "cont = 0\n",
    "top3 = vendas\n",
    "while cont < 8:\n",
    "    top3.remove(min(top3))\n",
    "    cont+=1\n",
    "print(top3)"
   ]
  }
 ],
 "metadata": {
  "kernelspec": {
   "display_name": "Python 3 (ipykernel)",
   "language": "python",
   "name": "python3"
  },
  "language_info": {
   "codemirror_mode": {
    "name": "ipython",
    "version": 3
   },
   "file_extension": ".py",
   "mimetype": "text/x-python",
   "name": "python",
   "nbconvert_exporter": "python",
   "pygments_lexer": "ipython3",
   "version": "3.9.12"
  }
 },
 "nbformat": 4,
 "nbformat_minor": 4
}
