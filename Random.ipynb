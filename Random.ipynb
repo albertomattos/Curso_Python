{
 "cells": [
  {
   "cell_type": "code",
   "execution_count": 15,
   "id": "43cf4ace",
   "metadata": {},
   "outputs": [
    {
     "name": "stdout",
     "output_type": "stream",
     "text": [
      "Original list is : [2.17, 1.54, 1.45, 1.94, 2.37, 2.3, 1.79, 1.8, 2.25, 1.37]\n",
      "Random selected number is : 2.17\n"
     ]
    }
   ],
   "source": [
    "import random \n",
    "test_list = [2.17,1.54,1.45,1.94,2.37,2.3,1.79,1.8,2.25,1.37]\n",
    "print (f'Original list is : {test_list}') \n",
    "random_num = random.choice(test_list)\n",
    "print (\"Random selected number is : \" + str(random_num))"
   ]
  },
  {
   "cell_type": "code",
   "execution_count": 18,
   "id": "65e15874",
   "metadata": {},
   "outputs": [
    {
     "name": "stdout",
     "output_type": "stream",
     "text": [
      "Original list is : [2.17, 1.54, 1.45, 1.94, 2.37, 2.3, 1.79, 1.8, 2.25, 1.37]\n",
      "5\n",
      "Random selected number is : 2.3\n"
     ]
    }
   ],
   "source": [
    "import random \n",
    "test_list = [2.17,1.54,1.45,1.94,2.37,2.3,1.79,1.8,2.25,1.37] \n",
    "print (\"Original list is : \" + str(test_list)) \n",
    "rand_idx = random.randrange(len(test_list))\n",
    "print(rand_idx)\n",
    "random_num = test_list[rand_idx] \n",
    "print (\"Random selected number is : \" + str(random_num))"
   ]
  }
 ],
 "metadata": {
  "kernelspec": {
   "display_name": "Python 3 (ipykernel)",
   "language": "python",
   "name": "python3"
  },
  "language_info": {
   "codemirror_mode": {
    "name": "ipython",
    "version": 3
   },
   "file_extension": ".py",
   "mimetype": "text/x-python",
   "name": "python",
   "nbconvert_exporter": "python",
   "pygments_lexer": "ipython3",
   "version": "3.9.12"
  }
 },
 "nbformat": 4,
 "nbformat_minor": 5
}
