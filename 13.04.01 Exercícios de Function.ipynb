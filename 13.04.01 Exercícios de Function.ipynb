{
 "cells": [
  {
   "cell_type": "markdown",
   "metadata": {},
   "source": [
    "# Exercícios\n",
    "\n",
    "Para fazer um treino simples antes de avançarmos em mais functions, vamos criar uma function que resolve 1 \"desafio simples\"\n",
    "\n",
    "## 1. Function para Cálculo de Carga Tributária\n",
    "\n",
    "(Lembrando, não se atente ao funcionamento real da carga tributária, é apenas um exemplo imaginário para treinarmos as functions com algo mais prático)\n",
    "\n",
    "Imagine que você trabalha no setor contábil de uma grande empresa de Varejo. \n",
    "\n",
    "Crie uma function que calcule qual o % de carga tributária que está sendo aplicado sobre um determinado produto, dado o preço de venda, o \"lucro\" e os custos (com exceção do imposto) dele."
   ]
  },
  {
   "cell_type": "code",
   "execution_count": 12,
   "metadata": {},
   "outputs": [
    {
     "name": "stdout",
     "output_type": "stream",
     "text": [
      "Digite o preço do produto: 1500\n",
      "Digite o custo do produto: 400\n",
      "Digite o lucro do produto: 785\n",
      "Está sendo aplicado 21.00% de imposto\n"
     ]
    }
   ],
   "source": [
    "def carga_tributaria(preco,custo,lucro):\n",
    "    perc_imposto = (preco - custo - lucro) / preco\n",
    "    return perc_imposto\n",
    "\n",
    "#preco = 1500\n",
    "#custo = 400\n",
    "#lucro = 800\n",
    "#imposto = preco - custo - lucro\n",
    "#perc_imposto = imposto / preco * 100\n",
    "preco = int(input('Digite o preço do produto: '))\n",
    "custo = int(input('Digite o custo do produto: '))\n",
    "lucro = int(input ('Digite o lucro do produto: '))\n",
    "perc_imposto = carga_tributaria(preco,custo,lucro)\n",
    "print(f'Está sendo aplicado {perc_imposto:.2%} de imposto')"
   ]
  },
  {
   "cell_type": "markdown",
   "metadata": {},
   "source": [
    "Repare que preço - custo não é igual ao lucro, porque ainda foi descontado o imposto. Sua function deve calcular qual foi o % de imposto aplicado sobre o preço total."
   ]
  },
  {
   "cell_type": "code",
   "execution_count": 2,
   "metadata": {},
   "outputs": [],
   "source": [
    "#crie sua function aqui"
   ]
  },
  {
   "cell_type": "code",
   "execution_count": null,
   "metadata": {},
   "outputs": [],
   "source": [
    "#aplique sua function nos valores fornecidos para ver se ela está funcionando corretamente"
   ]
  }
 ],
 "metadata": {
  "kernelspec": {
   "display_name": "Python 3 (ipykernel)",
   "language": "python",
   "name": "python3"
  },
  "language_info": {
   "codemirror_mode": {
    "name": "ipython",
    "version": 3
   },
   "file_extension": ".py",
   "mimetype": "text/x-python",
   "name": "python",
   "nbconvert_exporter": "python",
   "pygments_lexer": "ipython3",
   "version": "3.9.12"
  }
 },
 "nbformat": 4,
 "nbformat_minor": 4
}
