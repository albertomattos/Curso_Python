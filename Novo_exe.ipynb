{
 "cells": [
  {
   "cell_type": "code",
   "execution_count": null,
   "id": "8ecbd791",
   "metadata": {},
   "outputs": [],
   "source": [
    "#cxfreeze arquivo_a_converter.py --target-dir nome_da_pasta (no Pycharm)\n",
    "\n",
    "jogadores = []\n",
    "votacao = []\n",
    "for i in range(23):\n",
    "    jogadores.append(i+1)\n",
    "    votacao.append(0)\n",
    "print('Enquete: quem foi o melhor jogador da partida?')\n",
    "while True:\n",
    "    voto = int(input('Número do jogador (0=fim): '))\n",
    "    if voto == 0:\n",
    "        break\n",
    "    elif voto < 1 or voto > 23:\n",
    "        print('Digite um número de 1 a 23 ou 0 para sair!')\n",
    "        continue\n",
    "    voto_aux = votacao.pop(jogadores.index(voto))\n",
    "    votacao.insert(jogadores.index(voto),1+voto_aux)\n",
    "with open('arquivo.txt', 'w') as arquivo:\n",
    "    print('\\nResultado da votação:', file=arquivo)\n",
    "    print('\\nForam computados {} votos no total.'.format(sum(votacao)), file=arquivo)\n",
    "    print('\\nJogador - Votos - %', file=arquivo)\n",
    "    for j in range(23):\n",
    "        if votacao[j] != 0:\n",
    "            print(f'{jogadores[j]:7} - {votacao[j]:5} - {votacao[j]/sum(votacao):.2%}', file=arquivo)\n",
    "    mais_votado = max(votacao)\n",
    "    print('\\nO jogador mais votado foi o {}, com {} votos'.format(jogadores[votacao.index(mais_votado)],mais_votado), file=arquivo)"
   ]
  }
 ],
 "metadata": {
  "kernelspec": {
   "display_name": "Python 3 (ipykernel)",
   "language": "python",
   "name": "python3"
  },
  "language_info": {
   "codemirror_mode": {
    "name": "ipython",
    "version": 3
   },
   "file_extension": ".py",
   "mimetype": "text/x-python",
   "name": "python",
   "nbconvert_exporter": "python",
   "pygments_lexer": "ipython3",
   "version": "3.9.12"
  }
 },
 "nbformat": 4,
 "nbformat_minor": 5
}
