{
 "cells": [
  {
   "cell_type": "code",
   "execution_count": 6,
   "metadata": {
    "colab": {
     "base_uri": "https://localhost:8080/"
    },
    "executionInfo": {
     "elapsed": 343,
     "status": "ok",
     "timestamp": 1666910323647,
     "user": {
      "displayName": "Alberto Mattos",
      "userId": "14207080239714980718"
     },
     "user_tz": 240
    },
    "id": "6dyVu41lkoY6",
    "outputId": "58fdf060-728f-485a-995d-ebea98fb644a"
   },
   "outputs": [
    {
     "name": "stdout",
     "output_type": "stream",
     "text": [
      "bol.com.br\n"
     ]
    }
   ],
   "source": [
    "email = 'albertom@bol.com.br'\n",
    "cont = 0\n",
    "for i in email:\n",
    "  if i == '@':\n",
    "    break\n",
    "  cont+=1\n",
    "print(email[cont+1:])"
   ]
  },
  {
   "cell_type": "code",
   "execution_count": 5,
   "metadata": {},
   "outputs": [
    {
     "name": "stdout",
     "output_type": "stream",
     "text": [
      "gmail.com\n"
     ]
    }
   ],
   "source": [
    "email = 'albertomattos@gmail.com'\n",
    "cont = email.find('@')\n",
    "print(email[cont+1:])"
   ]
  },
  {
   "cell_type": "code",
   "execution_count": 7,
   "metadata": {},
   "outputs": [
    {
     "name": "stdout",
     "output_type": "stream",
     "text": [
      "['', 'lbertom', 'ttos@gm', 'il.com']\n"
     ]
    }
   ],
   "source": [
    "email = 'albertomattos@gmail.com'\n",
    "print(email.split('a'))"
   ]
  }
 ],
 "metadata": {
  "colab": {
   "authorship_tag": "ABX9TyOFhE46Y5/vNnVTacz22j0f",
   "provenance": []
  },
  "kernelspec": {
   "display_name": "Python 3 (ipykernel)",
   "language": "python",
   "name": "python3"
  },
  "language_info": {
   "codemirror_mode": {
    "name": "ipython",
    "version": 3
   },
   "file_extension": ".py",
   "mimetype": "text/x-python",
   "name": "python",
   "nbconvert_exporter": "python",
   "pygments_lexer": "ipython3",
   "version": "3.9.12"
  }
 },
 "nbformat": 4,
 "nbformat_minor": 1
}
