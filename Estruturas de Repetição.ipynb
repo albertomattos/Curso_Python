{
 "cells": [
  {
   "cell_type": "markdown",
   "id": "ac60394f",
   "metadata": {
    "id": "ac60394f"
   },
   "source": [
    "# Estruturas de repetição\n",
    "\n",
    "<span style=\"color: red;\"><b>Todos os exercícios são feitos partindo-se do pressuposto de que todas as entradas são dadas de forma correta. Casos limite não mencionados no enunciado não são abordados porque não fazem parte do exercício.</b></span>"
   ]
  },
  {
   "cell_type": "markdown",
   "id": "017affd0",
   "metadata": {
    "id": "017affd0"
   },
   "source": [
    "#### 1. Faça um programa que peça uma nota, entre zero e dez. Mostre uma mensagem caso o valor seja inválido e continue pedindo até que o usuário informe um valor válido."
   ]
  },
  {
   "cell_type": "code",
   "execution_count": 1,
   "id": "5f12870d",
   "metadata": {
    "id": "5f12870d"
   },
   "outputs": [
    {
     "name": "stdout",
     "output_type": "stream",
     "text": [
      "Digite uma nota de 0 a 10: 11\n",
      "Nota inválida. Digite novamente.\n",
      "Digite uma nota de 0 a 10: 12\n",
      "Nota inválida. Digite novamente.\n",
      "Digite uma nota de 0 a 10: 55\n",
      "Nota inválida. Digite novamente.\n",
      "Digite uma nota de 0 a 10: -5\n",
      "Nota inválida. Digite novamente.\n",
      "Digite uma nota de 0 a 10: 6\n"
     ]
    }
   ],
   "source": [
    "nota = int(input('Digite uma nota de 0 a 10: '))\n",
    "while nota <= 0 or nota >= 10:\n",
    "    print('Nota inválida. Digite novamente.')\n",
    "    nota = int(input('Digite uma nota de 0 a 10: '))"
   ]
  },
  {
   "cell_type": "markdown",
   "id": "dd0c6d56",
   "metadata": {
    "id": "dd0c6d56"
   },
   "source": [
    "#### 2. Faça um programa que leia um nome de usuário e a sua senha e não aceite a senha igual ao nome do usuário, mostrando uma mensagem de erro e voltando a pedir as informações."
   ]
  },
  {
   "cell_type": "code",
   "execution_count": 2,
   "id": "f6579866",
   "metadata": {
    "id": "f6579866"
   },
   "outputs": [
    {
     "name": "stdout",
     "output_type": "stream",
     "text": [
      "Digite o nome: albet\n",
      "Digite uma senha: albet\n",
      "Senha inválida. Não pode ser igual ao nome.\n",
      "Digite o nome: alberto\n",
      "Digite uma senha: alberto\n",
      "Senha inválida. Não pode ser igual ao nome.\n",
      "Digite o nome: Alberto\n",
      "Digite uma senha: Beto\n"
     ]
    }
   ],
   "source": [
    "nome = input('Digite o nome: ')\n",
    "senha = input('Digite uma senha: ')\n",
    "while nome == senha:\n",
    "    print('Senha inválida. Não pode ser igual ao nome.')\n",
    "    nome = input('Digite o nome: ')\n",
    "    senha = input('Digite uma senha: ')"
   ]
  },
  {
   "cell_type": "markdown",
   "id": "ed113a82",
   "metadata": {
    "id": "ed113a82"
   },
   "source": [
    "#### 3. Faça um programa que leia e valide as seguintes informações (e para cada uma delas, continue pedindo a informação até o usuário inserir corretamente):\n",
    "##### Nome: maior que 3 caracteres;\n",
    "##### Idade: entre 0 e 150;\n",
    "##### Salário: maior que zero;\n",
    "##### Sexo: 'f' ou 'm';\n",
    "##### Estado Civil: 's', 'c', 'v', 'd';"
   ]
  },
  {
   "cell_type": "code",
   "execution_count": 9,
   "id": "3284f187",
   "metadata": {
    "id": "3284f187"
   },
   "outputs": [
    {
     "name": "stdout",
     "output_type": "stream",
     "text": [
      "Digite o nome: alberto\n",
      "DIgite a idade: 50\n",
      "Digite o salário: 1\n",
      "Digite o sexo: m\n",
      "Digite o estado civil: f\n",
      "Estado civil inválido\n",
      "Digite o estado civil: g\n",
      "Estado civil inválido\n",
      "Digite o estado civil: h\n",
      "Estado civil inválido\n",
      "Digite o estado civil: o\n",
      "Estado civil inválido\n",
      "Digite o estado civil: c\n"
     ]
    }
   ],
   "source": [
    "nome = input('Digite o nome: ')\n",
    "while len(nome) <= 3:\n",
    "    print('Nome deve ter mais do que 3 caracteres')\n",
    "    nome = input('Digite o nome: ')\n",
    "idade = int(input('DIgite a idade: '))\n",
    "while (0 < idade > 100):\n",
    "    print('Idade inválida')\n",
    "    idade = int(input('Digite a idade: '))\n",
    "salario = float(input('Digite o salário: '))\n",
    "while salario < 0:\n",
    "    print('Salário inválido')\n",
    "    salario = float(input('Digite o salário: '))\n",
    "sexo = input('Digite o sexo: ')\n",
    "while sexo != 'f' and sexo != 'm':\n",
    "    print('Sexo inválido')\n",
    "    sexo = input('Digite o sexo: ')\n",
    "est_civil = input('Digite o estado civil: ')\n",
    "while est_civil not in ['s','c','v','d']:\n",
    "    print('Estado civil inválido')\n",
    "    est_civil = input('Digite o estado civil: ')"
   ]
  },
  {
   "cell_type": "markdown",
   "id": "2f25dceb",
   "metadata": {
    "id": "2f25dceb"
   },
   "source": [
    "#### 4. Supondo que a população de um país A seja da ordem de 80000 habitantes com uma taxa anual de crescimento de 3% e que a população de B seja 200000 habitantes com uma taxa de crescimento de 1.5%. Faça um programa que calcule e escreva o número de anos necessários para que a população do país A ultrapasse ou iguale a população do país B, mantidas as taxas de crescimento."
   ]
  },
  {
   "cell_type": "code",
   "execution_count": 10,
   "id": "7ad0f5e9",
   "metadata": {
    "id": "7ad0f5e9"
   },
   "outputs": [
    {
     "name": "stdout",
     "output_type": "stream",
     "text": [
      "No 1º ano, o país A terá 82400 habitantes e o país B terá 203000 habitantes.\n",
      "No 2º ano, o país A terá 84872 habitantes e o país B terá 206045 habitantes.\n",
      "No 3º ano, o país A terá 87418 habitantes e o país B terá 209136 habitantes.\n",
      "No 4º ano, o país A terá 90041 habitantes e o país B terá 212273 habitantes.\n",
      "No 5º ano, o país A terá 92742 habitantes e o país B terá 215457 habitantes.\n",
      "No 6º ano, o país A terá 95524 habitantes e o país B terá 218689 habitantes.\n",
      "No 7º ano, o país A terá 98390 habitantes e o país B terá 221969 habitantes.\n",
      "No 8º ano, o país A terá 101342 habitantes e o país B terá 225299 habitantes.\n",
      "No 9º ano, o país A terá 104382 habitantes e o país B terá 228678 habitantes.\n",
      "No 10º ano, o país A terá 107513 habitantes e o país B terá 232108 habitantes.\n",
      "No 11º ano, o país A terá 110739 habitantes e o país B terá 235590 habitantes.\n",
      "No 12º ano, o país A terá 114061 habitantes e o país B terá 239124 habitantes.\n",
      "No 13º ano, o país A terá 117483 habitantes e o país B terá 242710 habitantes.\n",
      "No 14º ano, o país A terá 121007 habitantes e o país B terá 246351 habitantes.\n",
      "No 15º ano, o país A terá 124637 habitantes e o país B terá 250046 habitantes.\n",
      "No 16º ano, o país A terá 128377 habitantes e o país B terá 253797 habitantes.\n",
      "No 17º ano, o país A terá 132228 habitantes e o país B terá 257604 habitantes.\n",
      "No 18º ano, o país A terá 136195 habitantes e o país B terá 261468 habitantes.\n",
      "No 19º ano, o país A terá 140280 habitantes e o país B terá 265390 habitantes.\n",
      "No 20º ano, o país A terá 144489 habitantes e o país B terá 269371 habitantes.\n",
      "No 21º ano, o país A terá 148824 habitantes e o país B terá 273412 habitantes.\n",
      "No 22º ano, o país A terá 153288 habitantes e o país B terá 277513 habitantes.\n",
      "No 23º ano, o país A terá 157887 habitantes e o país B terá 281675 habitantes.\n",
      "No 24º ano, o país A terá 162624 habitantes e o país B terá 285901 habitantes.\n",
      "No 25º ano, o país A terá 167502 habitantes e o país B terá 290189 habitantes.\n",
      "No 26º ano, o país A terá 172527 habitantes e o país B terá 294542 habitantes.\n",
      "No 27º ano, o país A terá 177703 habitantes e o país B terá 298960 habitantes.\n",
      "No 28º ano, o país A terá 183034 habitantes e o país B terá 303444 habitantes.\n",
      "No 29º ano, o país A terá 188525 habitantes e o país B terá 307996 habitantes.\n",
      "No 30º ano, o país A terá 194181 habitantes e o país B terá 312616 habitantes.\n",
      "No 31º ano, o país A terá 200006 habitantes e o país B terá 317305 habitantes.\n",
      "No 32º ano, o país A terá 206007 habitantes e o país B terá 322065 habitantes.\n",
      "No 33º ano, o país A terá 212187 habitantes e o país B terá 326896 habitantes.\n",
      "No 34º ano, o país A terá 218552 habitantes e o país B terá 331799 habitantes.\n",
      "No 35º ano, o país A terá 225109 habitantes e o país B terá 336776 habitantes.\n",
      "No 36º ano, o país A terá 231862 habitantes e o país B terá 341828 habitantes.\n",
      "No 37º ano, o país A terá 238818 habitantes e o país B terá 346955 habitantes.\n",
      "No 38º ano, o país A terá 245983 habitantes e o país B terá 352160 habitantes.\n",
      "No 39º ano, o país A terá 253362 habitantes e o país B terá 357442 habitantes.\n",
      "No 40º ano, o país A terá 260963 habitantes e o país B terá 362804 habitantes.\n",
      "No 41º ano, o país A terá 268792 habitantes e o país B terá 368246 habitantes.\n",
      "No 42º ano, o país A terá 276856 habitantes e o país B terá 373769 habitantes.\n",
      "No 43º ano, o país A terá 285161 habitantes e o país B terá 379376 habitantes.\n",
      "No 44º ano, o país A terá 293716 habitantes e o país B terá 385067 habitantes.\n",
      "No 45º ano, o país A terá 302528 habitantes e o país B terá 390843 habitantes.\n",
      "No 46º ano, o país A terá 311603 habitantes e o país B terá 396705 habitantes.\n",
      "No 47º ano, o país A terá 320952 habitantes e o país B terá 402656 habitantes.\n",
      "No 48º ano, o país A terá 330580 habitantes e o país B terá 408696 habitantes.\n",
      "No 49º ano, o país A terá 340498 habitantes e o país B terá 414826 habitantes.\n",
      "No 50º ano, o país A terá 350712 habitantes e o país B terá 421048 habitantes.\n",
      "No 51º ano, o país A terá 361234 habitantes e o país B terá 427364 habitantes.\n",
      "No 52º ano, o país A terá 372071 habitantes e o país B terá 433775 habitantes.\n",
      "No 53º ano, o país A terá 383233 habitantes e o país B terá 440281 habitantes.\n",
      "No 54º ano, o país A terá 394730 habitantes e o país B terá 446886 habitantes.\n",
      "No 55º ano, o país A terá 406572 habitantes e o país B terá 453589 habitantes.\n",
      "No 56º ano, o país A terá 418769 habitantes e o país B terá 460393 habitantes.\n",
      "No 57º ano, o país A terá 431332 habitantes e o país B terá 467299 habitantes.\n",
      "No 58º ano, o país A terá 444272 habitantes e o país B terá 474308 habitantes.\n",
      "No 59º ano, o país A terá 457600 habitantes e o país B terá 481423 habitantes.\n",
      "No 60º ano, o país A terá 471328 habitantes e o país B terá 488644 habitantes.\n",
      "No 61º ano, o país A terá 485468 habitantes e o país B terá 495974 habitantes.\n",
      "No 62º ano, o país A terá 500032 habitantes e o país B terá 503413 habitantes.\n",
      "No 63º ano, o país A terá 515033 habitantes e o país B terá 510964 habitantes.\n"
     ]
    }
   ],
   "source": [
    "popa = 80000\n",
    "popb = 200000\n",
    "ano = 0\n",
    "while popb > popa:\n",
    "    popa = popa * 1.03\n",
    "    popb = popb * 1.015\n",
    "    ano +=1\n",
    "    print('No {}º ano, o país A terá {:.0f} habitantes e o país B terá {:.0f} habitantes.'.format(ano,popa,popb))"
   ]
  },
  {
   "cell_type": "code",
   "execution_count": 4,
   "id": "af7c2325",
   "metadata": {},
   "outputs": [
    {
     "name": "stdout",
     "output_type": "stream",
     "text": [
      "Levará 63 anos para o país A superar a população do país B, com 515033 habitantes contra 510964 habitantes.\n"
     ]
    }
   ],
   "source": [
    "popa = 80000\n",
    "popb = 200000\n",
    "ano = 0\n",
    "while popb > popa:\n",
    "    popa = popa * 1.03\n",
    "    popb = popb * 1.015\n",
    "    ano +=1\n",
    "print('Levará {} anos para o país A superar a população do país B, com {:.0f} habitantes contra {:.0f} habitantes.'.format(ano,popa,popb))"
   ]
  },
  {
   "cell_type": "markdown",
   "id": "e9626858",
   "metadata": {
    "id": "e9626858"
   },
   "source": [
    "#### 5. Altere o programa anterior permitindo ao usuário informar as populações e as taxas de crescimento iniciais. Valide a entrada e permita repetir a operação."
   ]
  },
  {
   "cell_type": "code",
   "execution_count": 13,
   "id": "c7e250a4",
   "metadata": {
    "id": "c7e250a4"
   },
   "outputs": [
    {
     "name": "stdout",
     "output_type": "stream",
     "text": [
      "Digite a população de A: 215000000\n",
      "Taxa de crescimento de A: 0.91\n",
      "Digite a população de B: 331000000\n",
      "Taxa de crescimento de B: 0.75\n",
      "Levará 272 anos para o país A superar a população do país B, com 2,526,635,182 habitantes contra 2,526,288,255 habitantes.\n"
     ]
    }
   ],
   "source": [
    "popa = int(input('Digite a população de A: '))\n",
    "taxaa = float(input('Taxa de crescimento de A: '))\n",
    "popb = int(input('Digite a população de B: '))\n",
    "taxab = float(input('Taxa de crescimento de B: '))\n",
    "ano = 0\n",
    "while popb > popa:\n",
    "    popa = popa * (taxaa/100+1)\n",
    "    popb = popb * (taxab/100+1)\n",
    "    ano +=1\n",
    "print('Levará {} anos para o país A superar a população do país B, com {:,.0f} habitantes contra {:,.0f} habitantes.'.format(ano,popa,popb))"
   ]
  },
  {
   "cell_type": "markdown",
   "id": "b3d268b5",
   "metadata": {
    "id": "b3d268b5"
   },
   "source": [
    "#### 6. Faça um programa que peça para o usuário inserir o faturamento dos últimos 5 meses (individualmente) e informe o maior faturamento"
   ]
  },
  {
   "cell_type": "code",
   "execution_count": 33,
   "id": "8078e7a5",
   "metadata": {
    "id": "8078e7a5"
   },
   "outputs": [
    {
     "name": "stdout",
     "output_type": "stream",
     "text": [
      "Faturamento: 15000\n",
      "Faturamento: 12000\n",
      "[15000.0, 12000.0]\n",
      "O maior faturamento foi de R$ 15000.00\n",
      "O maior faturamento foi de R$ R$ 15.000,00\n"
     ]
    }
   ],
   "source": [
    "fatura = []\n",
    "i = 0\n",
    "while i < 5:\n",
    "    fatura.insert(i,float(input('Faturamento: ')))\n",
    "    i+=1\n",
    "print('O maior faturamento foi de R$ {:.2f}'.format(max(fatura)))\n",
    "maior = 'R$ {:_.2f}'.format(max(fatura))\n",
    "maior = maior.replace('.', ',').replace('_', '.')\n",
    "print('O maior faturamento foi de R$ {}'.format(maior))"
   ]
  },
  {
   "cell_type": "markdown",
   "id": "6407824c",
   "metadata": {
    "id": "6407824c"
   },
   "source": [
    "#### 7. Faça um programa que peça para o usuário inserir o faturamento dos últimos 5 meses (individualmente) e informe o faturamento total (soma) e o faturamento médio por mês (média)."
   ]
  },
  {
   "cell_type": "code",
   "execution_count": 5,
   "id": "a02320d1",
   "metadata": {
    "id": "a02320d1"
   },
   "outputs": [
    {
     "name": "stdout",
     "output_type": "stream",
     "text": [
      "Faturamento: 150000\n",
      "Faturamento médio do(s) último(s) 1 mês(es) foi: R$ R$ 150.000,00\n",
      "Faturamento: 300000\n",
      "Faturamento médio do(s) último(s) 2 mês(es) foi: R$ R$ 225.000,00\n",
      "Faturamento: 500000\n",
      "Faturamento médio do(s) último(s) 3 mês(es) foi: R$ R$ 316.666,67\n",
      "Faturamento: 80000\n",
      "Faturamento médio do(s) último(s) 4 mês(es) foi: R$ R$ 257.500,00\n",
      "Faturamento: 180000\n",
      "Faturamento médio do(s) último(s) 5 mês(es) foi: R$ R$ 242.000,00\n",
      "Faturamento total foi de R$ R$ 1.210.000,00\n"
     ]
    }
   ],
   "source": [
    "fatura = []\n",
    "i = 0\n",
    "while i < 5:\n",
    "    fatura.insert(i,float(input('Faturamento: ')))\n",
    "    i+=1\n",
    "    media = 'R$ {:_.2f}'.format(sum(fatura) / len(fatura))\n",
    "    media = media.replace('.', ',').replace('_', '.')\n",
    "    print('Faturamento médio do(s) último(s) {} mês(es) foi: R$ {}'.format(i,media))\n",
    "total = 'R$ {:_.2f}'.format(sum(fatura))\n",
    "total = total.replace('.', ',').replace('_', '.')\n",
    "print('Faturamento total foi de R$ {}'.format(total))"
   ]
  },
  {
   "cell_type": "markdown",
   "id": "703f3c4d",
   "metadata": {
    "id": "703f3c4d"
   },
   "source": [
    "#### 8. Faça um programa que consiga categorizar a idade das equipes de uma empresa. Faça um programa que peça para n pessoas a sua idade, ao final o programa devera verificar se a média de idade da equipe varia entre 0 e 25 (jovem) ,26 e 60 (sênior) e maior que 60 (idosa); e então, dizer se a equipe é jovem, sênior ou idosa, conforme a média calculada."
   ]
  },
  {
   "cell_type": "code",
   "execution_count": 18,
   "id": "b56a85de",
   "metadata": {
    "id": "b56a85de"
   },
   "outputs": [
    {
     "name": "stdout",
     "output_type": "stream",
     "text": [
      "Digite a idade (0 para finalizar): 25\n",
      "Digite a idade (0 para finalizar): 18\n",
      "Digite a idade (0 para finalizar): 23\n",
      "Digite a idade (0 para finalizar): 27\n",
      "Digite a idade (0 para finalizar): 20\n",
      "Digite a idade (0 para finalizar): 0\n",
      "A equipe é jovem\n"
     ]
    }
   ],
   "source": [
    "i = 0\n",
    "idade = 0\n",
    "idade1 = 0\n",
    "while True:\n",
    "    idade = int(input('Digite a idade (0 para finalizar): '))\n",
    "    if idade == 0:\n",
    "        break\n",
    "    idade1 += idade\n",
    "    media = idade1 / (i + 1)\n",
    "    i += 1\n",
    "if (0 < media <= 25):\n",
    "    print('A equipe é jovem')\n",
    "elif (25 < media <= 60):\n",
    "    print('A equipe é sênior')\n",
    "else:\n",
    "    print('A equipe é idosa')"
   ]
  },
  {
   "cell_type": "markdown",
   "id": "aad21b98",
   "metadata": {
    "id": "aad21b98"
   },
   "source": [
    "#### 9. Numa eleição existem três candidatos. Faça um programa que peça o número total de eleitores. Peça para cada eleitor votar e ao final mostrar o número de votos de cada candidato."
   ]
  },
  {
   "cell_type": "code",
   "execution_count": null,
   "id": "84aa7a93",
   "metadata": {
    "id": "84aa7a93"
   },
   "outputs": [],
   "source": [
    "total = int(input('Qual o total de eleitores? '))\n",
    "cand1 = cand2 = cand3 = nulo = 0\n",
    "for i in range(total):\n",
    "    print('Vote nos números dos candidatos a seguir:'\n",
    "         '\\n1 - Fulano de Tal'\n",
    "         '\\n2 - Cicrano das Couves'\n",
    "         '\\n3 - Beltrano Cobreloa')\n",
    "    voto = int(input('\\n\\nVote agora: '))\n",
    "    if voto == 1:\n",
    "        cand1 += 1\n",
    "    elif voto == 2:\n",
    "        cand2 += 1\n",
    "    elif voto == 3:\n",
    "        cand3 += 1\n",
    "    else:\n",
    "        nulo += 1\n",
    "print(f'\\nFulano de Tal teve {cand1} votos.')\n",
    "print(f'Cicrano das Couves teve {cand2} votos.')\n",
    "print(f'Beltrano Cobreloa teve {cand3} votos.')\n",
    "print(f'Foram {nulo} votos nulos.')\n"
   ]
  },
  {
   "cell_type": "markdown",
   "id": "6e306453",
   "metadata": {
    "id": "6e306453"
   },
   "source": [
    "#### 10. Faça um programa que calcule o valor total investido por um colecionador em sua coleção de CDs e o valor médio gasto em cada um deles. O usuário deverá informar a quantidade de CDs e o valor para em cada um."
   ]
  },
  {
   "cell_type": "code",
   "execution_count": 27,
   "id": "6b7fa4a2",
   "metadata": {
    "id": "6b7fa4a2"
   },
   "outputs": [
    {
     "name": "stdout",
     "output_type": "stream",
     "text": [
      "Informe a quatidade de CDs: 5\n",
      "Informe o preço do 1º CD: 20\n",
      "Informe o preço do 2º CD: 22\n",
      "Informe o preço do 3º CD: 30\n",
      "Informe o preço do 4º CD: 15\n",
      "Informe o preço do 5º CD: 18\n",
      "A média é de R$ 21.0 por CD\n"
     ]
    }
   ],
   "source": [
    "qtde = int(input(f'Informe a quatidade de CDs: '))\n",
    "total = 0\n",
    "\n",
    "for i in range(qtde):\n",
    "    valor = int(input(f'Informe o preço do {i+1}º CD: '))\n",
    "    total += valor\n",
    "\n",
    "print(f'A média é de R$ {total/qtde} por CD')"
   ]
  },
  {
   "cell_type": "markdown",
   "id": "f19c8d86",
   "metadata": {
    "id": "f19c8d86"
   },
   "source": [
    "#### 11. O Sr. Manoel Joaquim possui uma grande loja de artigos de R\\\\$ 1,99, com cerca de 10 caixas. Para agilizar o cálculo de quanto cada cliente deve pagar ele desenvolveu um tabela que contém o número de itens que o cliente comprou e ao lado o valor da conta. Desta forma a atendente do caixa precisa apenas contar quantos itens o cliente está levando e olhar na tabela de preços. Você foi contratado para desenvolver o programa que monta esta tabela de preços, que conterá os preços de 1 até 50 produtos, conforme o exemplo abaixo:\n",
    "<pre>\n",
    "Lojas Quase Dois - Tabela de preços\n",
    "1 - R$ 1.99\n",
    "2 - R$ 3.98\n",
    "...\n",
    "50 - R$ 99.50\n",
    "</pre>"
   ]
  },
  {
   "cell_type": "code",
   "execution_count": 31,
   "id": "4fc4d54d",
   "metadata": {
    "id": "4fc4d54d"
   },
   "outputs": [
    {
     "name": "stdout",
     "output_type": "stream",
     "text": [
      "1 - R$ 1.99\n",
      "2 - R$ 3.98\n",
      "3 - R$ 5.97\n",
      "4 - R$ 7.96\n",
      "5 - R$ 9.95\n",
      "6 - R$ 11.94\n",
      "7 - R$ 13.93\n",
      "8 - R$ 15.92\n",
      "9 - R$ 17.91\n",
      "10 - R$ 19.90\n",
      "11 - R$ 21.89\n",
      "12 - R$ 23.88\n",
      "13 - R$ 25.87\n",
      "14 - R$ 27.86\n",
      "15 - R$ 29.85\n",
      "16 - R$ 31.84\n",
      "17 - R$ 33.83\n",
      "18 - R$ 35.82\n",
      "19 - R$ 37.81\n",
      "20 - R$ 39.80\n",
      "21 - R$ 41.79\n",
      "22 - R$ 43.78\n",
      "23 - R$ 45.77\n",
      "24 - R$ 47.76\n",
      "25 - R$ 49.75\n",
      "26 - R$ 51.74\n",
      "27 - R$ 53.73\n",
      "28 - R$ 55.72\n",
      "29 - R$ 57.71\n",
      "30 - R$ 59.70\n",
      "31 - R$ 61.69\n",
      "32 - R$ 63.68\n",
      "33 - R$ 65.67\n",
      "34 - R$ 67.66\n",
      "35 - R$ 69.65\n",
      "36 - R$ 71.64\n",
      "37 - R$ 73.63\n",
      "38 - R$ 75.62\n",
      "39 - R$ 77.61\n",
      "40 - R$ 79.60\n",
      "41 - R$ 81.59\n",
      "42 - R$ 83.58\n",
      "43 - R$ 85.57\n",
      "44 - R$ 87.56\n",
      "45 - R$ 89.55\n",
      "46 - R$ 91.54\n",
      "47 - R$ 93.53\n",
      "48 - R$ 95.52\n",
      "49 - R$ 97.51\n",
      "50 - R$ 99.50\n"
     ]
    }
   ],
   "source": [
    "preco = 1.99\n",
    "for i in range(50):\n",
    "    print(f'{i+1} - R$ {preco:.2f}')\n",
    "    preco += 1.99"
   ]
  },
  {
   "cell_type": "markdown",
   "id": "6cd19c52",
   "metadata": {
    "id": "6cd19c52"
   },
   "source": [
    "#### 12. Um funcionário de uma empresa recebe aumento salarial anualmente: Sabe-se que:\n",
    "<pre>\n",
    "Esse funcionário foi contratado em 1995, com salário inicial de R$ 1.000,00;\n",
    "Em 1996 recebeu aumento de 1,5% sobre seu salário inicial;\n",
    "A partir de 1997 (inclusive), os aumentos salariais sempre correspondem ao dobro do percentual do ano anterior. Faça um programa que determine o salário desse funcionário em 2003. \n",
    "</pre>"
   ]
  },
  {
   "cell_type": "code",
   "execution_count": 42,
   "id": "98a4811b",
   "metadata": {
    "id": "98a4811b"
   },
   "outputs": [
    {
     "name": "stdout",
     "output_type": "stream",
     "text": [
      "1996 3.0 1015.0\n",
      "1997 6.0 1045.45\n",
      "1998 12.0 1108.18\n",
      "1999 24.0 1241.16\n",
      "2000 48.0 1539.04\n",
      "2001 96.0 2277.77\n",
      "2002 192.0 4464.44\n",
      "2003 384.0 13036.15\n"
     ]
    }
   ],
   "source": [
    "salario = 1000\n",
    "ano = 1996\n",
    "taxa = 1.5\n",
    "while ano < 2004:\n",
    "    salario = salario * ((taxa / 100)+1)\n",
    "    taxa *= 2\n",
    "    ano += 1\n",
    "    print(ano-1,taxa,round(salario,2))"
   ]
  },
  {
   "cell_type": "markdown",
   "id": "227928d1",
   "metadata": {
    "id": "227928d1"
   },
   "source": [
    "#### 13. O cardápio de uma lanchonete é o seguinte:\n",
    "<pre>\n",
    "Especificação   Código  Preço\n",
    "Cachorro Quente 100     R$ 1,20\n",
    "Bauru Simples   101     R$ 1,30\n",
    "Bauru com ovo   102     R$ 1,50\n",
    "Hambúrguer      103     R$ 1,20\n",
    "Cheeseburguer   104     R$ 1,30\n",
    "Refrigerante    105     R$ 1,00\n",
    "Faça um programa que leia o código dos itens pedidos e as quantidades desejadas. Calcule e mostre o valor a ser pago por item (preço * quantidade) e o total geral do pedido. Considere que o cliente deve informar quando o pedido deve ser encerrado.\n",
    "</pre>"
   ]
  },
  {
   "cell_type": "code",
   "execution_count": 53,
   "id": "8a784b86",
   "metadata": {
    "id": "8a784b86"
   },
   "outputs": [
    {
     "name": "stdout",
     "output_type": "stream",
     "text": [
      "Qual o item desejado (0 para encerrar)?105\n",
      "Quantos deseja? 3\n",
      "Qual o item desejado (0 para encerrar)?104\n",
      "Quantos deseja? 2\n",
      "Qual o item desejado (0 para encerrar)?100\n",
      "Quantos deseja? 3\n",
      "Qual o item desejado (0 para encerrar)?102\n",
      "Quantos deseja? 1\n",
      "Qual o item desejado (0 para encerrar)?103\n",
      "Quantos deseja? 4\n",
      "Qual o item desejado (0 para encerrar)?101\n",
      "Quantos deseja? 1\n",
      "Qual o item desejado (0 para encerrar)?0\n",
      "Produto              -    Unit -  Qtde  -  Vl total\n",
      "\n",
      "Refrigerante         - R$ 1.00 -      3 - R$ 3.00\n",
      "Cheeseburguer        - R$ 1.30 -      2 - R$ 2.60\n",
      "Cachorro Quente      - R$ 1.20 -      3 - R$ 3.60\n",
      "Bauru com ovo        - R$ 1.50 -      1 - R$ 1.50\n",
      "Hamburguer           - R$ 1.20 -      4 - R$ 4.80\n",
      "Bauru Simples        - R$ 1.30 -      1 - R$ 1.30\n",
      "Total do pedido: R$ 16.80\n"
     ]
    }
   ],
   "source": [
    "espec = ['Cachorro Quente','Bauru Simples','Bauru com ovo','Hamburguer','Cheeseburguer','Refrigerante']\n",
    "codigo = [100,101,102,103,104,105]\n",
    "preco = [1.2,1.3,1.5,1.2,1.3,1]\n",
    "pedido = []\n",
    "while True:\n",
    "    item_pedido = int(input('Qual o item desejado (0 para encerrar)?'))\n",
    "    if item_pedido == 0:\n",
    "        break\n",
    "    qtde = int(input('Quantos deseja? '))\n",
    "    pedido.append(item_pedido)\n",
    "    pedido.append(qtde)\n",
    "print('Produto              -    Unit -  Qtde  -  Vl total\\n')\n",
    "total = 0\n",
    "for i in range(0,len(pedido)-1,2):\n",
    "    print(f'{espec[codigo.index(pedido[i])]:20} - R$ {preco[codigo.index(pedido[i])]:4.2f} - {pedido[i+1]:6} - R$ {preco[codigo.index(pedido[i])]*pedido[i+1]:4.2f}')\n",
    "    total += pedido[i+1]*preco[codigo.index(pedido[i])]\n",
    "print('Total do pedido: R$ {:.2f}'.format(total))\n"
   ]
  },
  {
   "cell_type": "markdown",
   "id": "9877b8ba",
   "metadata": {
    "id": "9877b8ba"
   },
   "source": [
    "#### 14. Uma grande emissora de televisão quer fazer uma enquete entre os seus telespectadores para saber qual o melhor jogador após cada jogo. Para isto, faz-se necessário o desenvolvimento de um programa, que será utilizado pelas telefonistas, para a computação dos votos. Sua equipe foi contratada para desenvolver este programa, utilizando a linguagem de programação Python. Para computar cada voto, a telefonista digitará um número, entre 1 e 23, correspondente ao número da camisa do jogador. Um número de jogador igual zero, indica que a votação foi encerrada. Se um número inválido for digitado, o programa deve ignorá-lo, mostrando uma breve mensagem de aviso, e voltando a pedir outro número. Após o final da votação, o programa deverá exibir:\n",
    "<pre>a. O total de votos computados;\n",
    "b. Os números e respectivos votos de todos os jogadores que receberam votos;\n",
    "c. O percentual de votos de cada um destes jogadores;\n",
    "d. O número do jogador escolhido como o melhor jogador da partida, juntamente com o número de votos e o percentual de votos dados a ele.\n",
    "        Observe que os votos inválidos e o zero final não devem ser computados como votos. O resultado aparece ordenado pelo número do jogador. O programa deve fazer uso de arrays. O programa deverá executar o cálculo do percentual de cada jogador através de uma função. Esta função receberá dois parâmetros: o número de votos de um jogador e o total de votos. A função calculará o percentual e retornará o valor calculado. Abaixo segue uma tela de exemplo. A disposição das informações deve ser o mais próxima possível ao exemplo. Os dados são fictícios e podem mudar a cada execução do programa. Ao final, o programa deve ainda gravar os dados referentes ao resultado da votação em um arquivo texto no disco, obedecendo a mesma disposição apresentada na tela.</pre>\n",
    "```\n",
    "Enquete: Quem foi o melhor jogador?\n",
    "\n",
    "Número do jogador (0=fim): 9\n",
    "Número do jogador (0=fim): 10\n",
    "Número do jogador (0=fim): 9\n",
    "Número do jogador (0=fim): 10\n",
    "Número do jogador (0=fim): 11\n",
    "Número do jogador (0=fim): 10\n",
    "Número do jogador (0=fim): 50\n",
    "Informe um valor entre 1 e 23 ou 0 para sair!\n",
    "Número do jogador (0=fim): 9\n",
    "Número do jogador (0=fim): 9\n",
    "Número do jogador (0=fim): 0\n",
    "\n",
    "Resultado da votação:\n",
    "\n",
    "Foram computados 8 votos.\n",
    "\n",
    "Jogador Votos           %\n",
    "9               4               50,0%\n",
    "10              3               37,5%\n",
    "11              1               12,5%\n",
    "``` "
   ]
  },
  {
   "cell_type": "code",
   "execution_count": 82,
   "id": "79b82364",
   "metadata": {
    "id": "79b82364"
   },
   "outputs": [
    {
     "name": "stdout",
     "output_type": "stream",
     "text": [
      "Enquete: quem foi o melhor jogador da partida?\n",
      "Número do jogador (0=fim): 8\n",
      "Número do jogador (0=fim): 8\n",
      "Número do jogador (0=fim): 8\n",
      "Número do jogador (0=fim): 2\n",
      "Número do jogador (0=fim): 10\n",
      "Número do jogador (0=fim): 8\n",
      "Número do jogador (0=fim): 5\n",
      "Número do jogador (0=fim): 6\n",
      "Número do jogador (0=fim): 5\n",
      "Número do jogador (0=fim): 8\n",
      "Número do jogador (0=fim): 10\n",
      "Número do jogador (0=fim): 0\n"
     ]
    }
   ],
   "source": [
    "jogadores = []\n",
    "votacao = []\n",
    "for i in range(23):\n",
    "    jogadores.append(i+1)\n",
    "    votacao.append(0)\n",
    "print('Enquete: quem foi o melhor jogador da partida?')\n",
    "while True:\n",
    "    voto = int(input('Número do jogador (0=fim): '))\n",
    "    if voto == 0:\n",
    "        break\n",
    "    elif voto < 1 or voto > 23:\n",
    "        print('Digite um número de 1 a 23 ou 0 para sair!')\n",
    "        continue\n",
    "    voto_aux = votacao.pop(jogadores.index(voto))\n",
    "    votacao.insert(jogadores.index(voto),1+voto_aux)\n",
    "with open('arquivo.txt', 'w') as arquivo:\n",
    "    print('\\nResultado da votação:', file=arquivo)\n",
    "    print('\\nForam computados {} votos no total.'.format(sum(votacao)), file=arquivo)\n",
    "    print('\\nJogador - Votos - %', file=arquivo)\n",
    "    for j in range(23):\n",
    "        if votacao[j] != 0:\n",
    "            print(f'{jogadores[j]:7} - {votacao[j]:5} - {votacao[j]/sum(votacao):.2%}', file=arquivo)\n",
    "    mais_votado = max(votacao)\n",
    "    print('\\nO jogador mais votado foi o {}, com {} votos'.format(jogadores[votacao.index(mais_votado)],mais_votado), file=arquivo)"
   ]
  }
 ],
 "metadata": {
  "colab": {
   "collapsed_sections": [],
   "provenance": []
  },
  "kernelspec": {
   "display_name": "Python 3 (ipykernel)",
   "language": "python",
   "name": "python3"
  },
  "language_info": {
   "codemirror_mode": {
    "name": "ipython",
    "version": 3
   },
   "file_extension": ".py",
   "mimetype": "text/x-python",
   "name": "python",
   "nbconvert_exporter": "python",
   "pygments_lexer": "ipython3",
   "version": "3.9.12"
  }
 },
 "nbformat": 4,
 "nbformat_minor": 5
}
