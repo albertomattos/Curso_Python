{
 "cells": [
  {
   "cell_type": "markdown",
   "id": "2b04bbea",
   "metadata": {},
   "source": [
    "# Listas\n",
    "\n",
    "<span style=\"color: red;\"><b>Todos os exercícios são feitos partindo-se do pressuposto de que todas as entradas são dadas de forma correta. Casos limite não mencionados no enunciado não são abordados porque não fazem parte do exercício.</b></span>"
   ]
  },
  {
   "cell_type": "markdown",
   "id": "dcb81b29",
   "metadata": {},
   "source": [
    "#### 1. Faça um Programa que leia as vendas dos vendedores, mostre a venda de cada vendedor com o seu nome e a média de vendas. "
   ]
  },
  {
   "cell_type": "code",
   "execution_count": 16,
   "id": "09c0d2b3",
   "metadata": {},
   "outputs": [
    {
     "name": "stdout",
     "output_type": "stream",
     "text": [
      "Fulano vendeu 1000 unidades.\n",
      "Beltrano vendeu 1500 unidades.\n",
      "Ciclano vendeu 1200 unidades.\n",
      "Lira vendeu 1300 unidades.\n",
      "A média foi de 1250.0 vendas.\n"
     ]
    }
   ],
   "source": [
    "vendas = [1000, 1500, 1200, 1300]\n",
    "vendedores = [\"Fulano\", \"Beltrano\", \"Ciclano\", \"Lira\"]\n",
    "for i, item in enumerate(vendas):\n",
    "    print('{} vendeu {} unidades.'.format(vendedores[i],vendas[i]))\n",
    "print('A média foi de {} vendas.'.format(sum(vendas)/len(vendas)))"
   ]
  },
  {
   "cell_type": "markdown",
   "id": "cbda91b3",
   "metadata": {},
   "source": [
    "#### 2. Faça um Programa que crie uma lista com as médias de cada aluno, imprima as médias de cada aluno e a quantidade de alunos com média maior que 7."
   ]
  },
  {
   "cell_type": "code",
   "execution_count": 20,
   "id": "073de14f",
   "metadata": {},
   "outputs": [
    {
     "name": "stdout",
     "output_type": "stream",
     "text": [
      "8.75\n"
     ]
    }
   ],
   "source": [
    "teste = [10, 9, 8, 8]\n",
    "media = sum(teste)/len(teste)\n",
    "print(media)"
   ]
  },
  {
   "cell_type": "code",
   "execution_count": 40,
   "id": "c93dd233",
   "metadata": {},
   "outputs": [
    {
     "name": "stdout",
     "output_type": "stream",
     "text": [
      "Aluno José ficou com média 8.75\n",
      "Aluno Joana ficou com média 6.5\n",
      "Aluno Maria ficou com média 10.0\n",
      "Aluno Carla ficou com média 6.75\n",
      "Aluno Mauricio ficou com média 6.25\n",
      "Aluno Andre ficou com média 7.25\n",
      "Aluno Tiago ficou com média 7.5\n",
      "Aluno Enzo ficou com média 6.5\n",
      "Aluno Amanda ficou com média 7.5\n",
      "Aluno Alessandra ficou com média 4.25\n",
      "\n",
      "5 alunos ficaram com média acima de 7\n"
     ]
    }
   ],
   "source": [
    "alunos = [\"José\", \"Joana\", \"Maria\", \"Carla\", \"Mauricio\", \"Andre\", \"Tiago\", \"Enzo\", \"Amanda\", \"Alessandra\"]\n",
    "notas = [\n",
    "    [10, 9, 8, 8],\n",
    "    [9, 7, 6, 4],\n",
    "    [10, 10, 10, 10],\n",
    "    [5, 3, 10, 9],\n",
    "    [7, 6, 6, 6],\n",
    "    [7, 7, 8, 7],\n",
    "    [7, 7, 7, 9],\n",
    "    [8, 5, 6, 7],\n",
    "    [10, 9, 7, 4],\n",
    "    [10, 1, 3, 3],\n",
    "]\n",
    "\n",
    "media = []\n",
    "media_alunos = 0\n",
    "\n",
    "#for i, item in enumerate(alunos):\n",
    "#    media_alunos = sum(notas[i])/len(notas[i])\n",
    "#    media.append(media_alunos)\n",
    "# Ou:\n",
    "for i, item in enumerate(alunos):\n",
    "    media.append(sum(notas[i])/len(notas[i]))\n",
    "    print('Aluno {} ficou com média {}'.format(alunos[i],media[i]))\n",
    "for j in media:\n",
    "    if j > 7:\n",
    "        media_alunos +=1\n",
    "print('\\n{} alunos ficaram com média acima de 7'.format(media_alunos))"
   ]
  },
  {
   "cell_type": "markdown",
   "id": "c3068a53",
   "metadata": {},
   "source": [
    "#### 3. Foram anotadas as idades e salários de 30 funcionários. Faça um Programa que determine quantos funcionários com mais de 25 anos possuem salário inferior à média de salários desses funcionários."
   ]
  },
  {
   "cell_type": "code",
   "execution_count": 43,
   "id": "0308566d",
   "metadata": {
    "scrolled": true
   },
   "outputs": [
    {
     "name": "stdout",
     "output_type": "stream",
     "text": [
      "12 funcionários com mais de 25 anos ganham menos que a média\n"
     ]
    }
   ],
   "source": [
    "idades = [35,32,50,33,48,50,33,48,22,49,35,38,20,47,49,48,34,21,48,44,48,30,25,42,42,23,25,23,38,35]\n",
    "salarios = [3739,2219,3554,3978,4014,3270,4792,3879,2981,2384,4826,2460,3680,4318,1872,1770,4640,3929,3295,1729,3965,4267,4007,1916,2987,2943,3852,4543,2055,1730]\n",
    "\n",
    "media = sum(salarios)/len(salarios)\n",
    "sal_menor_media = 0\n",
    "for i in range(len(idades)):\n",
    "    if idades[i] > 25 and salarios[i] < media:\n",
    "            sal_menor_media +=1\n",
    "print('{} funcionários com mais de 25 anos ganham menos que a média'.format(sal_menor_media))"
   ]
  },
  {
   "cell_type": "markdown",
   "id": "1611081b",
   "metadata": {},
   "source": [
    "#### 4.Em quais meses a média de temperatura foi maior do que a média nacional?"
   ]
  },
  {
   "cell_type": "code",
   "execution_count": 47,
   "id": "62f72e2b",
   "metadata": {},
   "outputs": [
    {
     "name": "stdout",
     "output_type": "stream",
     "text": [
      "Janeiro superou a média nacional\n",
      "Fevereiro superou a média nacional\n",
      "Março superou a média nacional\n",
      "Abril superou a média nacional\n",
      "Junho superou a média nacional\n",
      "Novembro superou a média nacional\n",
      "Dezembro superou a média nacional\n",
      "Meses que superaram a média nacional: ['Janeiro', 'Fevereiro', 'Março', 'Abril', 'Junho', 'Novembro', 'Dezembro']\n"
     ]
    }
   ],
   "source": [
    "meses = [\n",
    "    'Janeiro',\n",
    "    'Fevereiro',\n",
    "    'Março',\n",
    "    'Abril',\n",
    "    'Maio',\n",
    "    'Junho',\n",
    "    'Julho',\n",
    "    'Agosto',\n",
    "    'Setembro',\n",
    "    'Outubro',\n",
    "    'Novembro',\n",
    "    'Dezembro'\n",
    "]\n",
    "\n",
    "temperaturas = [30, 29, 28, 28, 25, 26, 20, 21, 19, 25, 27, 32]\n",
    "media_nacional = sum(temperaturas)/len(temperaturas)\n",
    "for i in range(len(meses)):\n",
    "    if temperaturas[i] > media_nacional:\n",
    "        print(f'{meses[i]} superou a média nacional')\n",
    "        \n",
    "# Ou:\n",
    "sup_media = []\n",
    "superou = ''\n",
    "for i in range(len(meses)):\n",
    "    if temperaturas[i] > media_nacional:\n",
    "        superou = meses[i]\n",
    "        sup_media.append(superou)\n",
    "print(f'Meses que superaram a média nacional: {sup_media}')"
   ]
  },
  {
   "cell_type": "markdown",
   "id": "8946af31",
   "metadata": {},
   "source": [
    "#### 5. As Organizações Tabajara resolveram dar um abono aos seus colaboradores em reconhecimento ao bom resultado alcançado durante o ano que passou. Para isto contratou você para desenvolver a aplicação que servirá como uma projeção de quanto será gasto com o pagamento deste abono.\n",
    "<pre>Após reuniões envolvendo a diretoria executiva, a diretoria financeira e os representantes do sindicato laboral, chegou-se a seguinte forma de cálculo:\n",
    ". Cada funcionário receberá o equivalente a 20% do seu salário bruto de dezembro;\n",
    ". O piso do abono será de 100 reais, isto é, aqueles funcionários cujo salário for muito baixo, recebem este valor mínimo; \n",
    "\n",
    "Neste momento, não se deve ter nenhuma preocupação com colaboradores com tempo menor de casa, descontos, impostos ou outras particularidades. O programa deverá calcular o valor do abono concedido a cada colaborador, de acordo com a regra definida acima. Ao final, o programa deverá apresentar:</pre>\n",
    "<pre>\n",
    "O salário de cada funcionário, juntamente com o valor do abono;\n",
    "O número total de funcionário processados;\n",
    "O valor total a ser gasto com o pagamento do abono;\n",
    "O número de funcionário que receberá o valor mínimo de 100 reais;\n",
    "O maior valor pago como abono; A tela abaixo é um exemplo de execução do programa, apenas para fins ilustrativos.\n",
    "<pre>\n",
    "Projeção de Gastos com Abono\n",
    "============================ \n",
    " \n",
    "Salário: 1000\n",
    "Salário: 300\n",
    "Salário: 500\n",
    "Salário: 100\n",
    "Salário: 4500\n",
    "Salário: 0\n",
    " \n",
    "Salário    - Abono     \n",
    "R$ 1000.00 - R$  200.00\n",
    "R$  300.00 - R$  100.00\n",
    "R$  500.00 - R$  100.00\n",
    "R$  100.00 - R$  100.00\n",
    "R$ 4500.00 - R$  900.00\n",
    " \n",
    "Foram processados 5 colaboradores\n",
    "Total gasto com abonos: R$ 1400.00\n",
    "Valor mínimo pago a 3 colaboradores\n",
    "Maior valor de abono pago: R$ 900.00"
   ]
  },
  {
   "cell_type": "code",
   "execution_count": 72,
   "id": "fadbcfb2",
   "metadata": {},
   "outputs": [
    {
     "name": "stdout",
     "output_type": "stream",
     "text": [
      "Salário        - Abono\n",
      "R$  1000.00    - R$  200.00\n",
      "R$   300.00    - R$  100.00\n",
      "R$   500.00    - R$  100.00\n",
      "R$   200.00    - R$  100.00\n",
      "R$  1500.00    - R$  300.00\n",
      "R$  3000.00    - R$  600.00\n",
      "R$  3400.00    - R$  680.00\n",
      "R$  5000.00    - R$ 1000.00\n",
      "R$  7000.00    - R$ 1400.00\n",
      "R$  2000.00    - R$  400.00\n",
      "R$   600.00    - R$  120.00\n",
      "R$   800.00    - R$  160.00\n",
      "R$   250.00    - R$  100.00\n",
      "R$  1500.00    - R$  300.00\n",
      "R$ 20000.00    - R$ 4000.00\n",
      "\n",
      "Foram processados 15 colaboradores\n",
      "Foram gastos R$ 9560.00 com abono\n",
      "4 colaboradores receberam o abono mínimo de R$ 100,00\n",
      "O maior valor de abono pago foi de: R$ 4000.00\n"
     ]
    }
   ],
   "source": [
    "lista_salarios = [1000, 300, 500, 200, 1500, 3000, 3400, 5000, 7000, 2000, 600, 800, 250, 1500, 20000]\n",
    "abonos = []\n",
    "abono = 0\n",
    "\n",
    "print('Salário        - Abono')\n",
    "for i in range(len(lista_salarios)):\n",
    "    abono = lista_salarios[i] * 0.2\n",
    "    if abono > 100:\n",
    "        abonos.append(abono)\n",
    "    else:\n",
    "        abonos.append(100)\n",
    "    print('R$ {:8.2f}    - R$ {:7.2f}'.format(lista_salarios[i],abonos[i]))\n",
    "print('\\nForam processados {} colaboradores'.format(len(lista_salarios)))\n",
    "print('Foram gastos R$ {:.2f} com abono'.format(sum(abonos)))\n",
    "print('{} colaboradores receberam o abono mínimo de R$ 100,00'.format(abonos.count(100)))\n",
    "print('O maior valor de abono pago foi de: R$ {:.2f}'.format(max(abonos)))"
   ]
  },
  {
   "cell_type": "markdown",
   "id": "382b0981",
   "metadata": {},
   "source": [
    "#### 6. Faça um programa que carregue uma lista com os modelos de cinco carros (exemplo de modelos: FUSCA, GOL, VECTRA etc). Carregue uma outra lista com o consumo desses carros, isto é, quantos quilômetros cada um desses carros faz com um litro de combustível. Calcule e mostre:\n",
    "<pre>\n",
    "a. O modelo do carro mais econômico;\n",
    "b. Quantos litros de combustível cada um dos carros cadastrados consome para percorrer uma distância de 1000 quilômetros e quanto isto custará, considerando um que a gasolina custe R$ 2,25 o litro. Abaixo segue uma tela de exemplo. O disposição das informações deve ser o mais próxima possível ao exemplo. Os dados são fictícios e podem mudar a cada execução do programa.</pre>\n",
    "```\n",
    "Comparativo de Consumo de Combustível\n",
    "\n",
    "Veículo 1\n",
    "Nome: fusca\n",
    "Km por litro: 7\n",
    "Veículo 2\n",
    "Nome: gol\n",
    "Km por litro: 10\n",
    "Veículo 3\n",
    "Nome: uno\n",
    "Km por litro: 12.5\n",
    "Veículo 4\n",
    "Nome: Vectra\n",
    "Km por litro: 9\n",
    "Veículo 5\n",
    "Nome: Peugeout\n",
    "Km por litro: 14.5\n",
    "\n",
    "Relatório Final\n",
    " 1 - fusca           -    7.0 -  142.9 litros - R$ 321.43\n",
    " 2 - gol             -   10.0 -  100.0 litros - R$ 225.00\n",
    " 3 - uno             -   12.5 -   80.0 litros - R$ 180.00\n",
    " 4 - vectra          -    9.0 -  111.1 litros - R$ 250.00\n",
    " 5 - peugeout        -   14.5 -   69.0 litros - R$ 155.17\n",
    "O menor consumo é do peugeout.\n",
    "```"
   ]
  },
  {
   "cell_type": "code",
   "execution_count": 111,
   "id": "6b6c8b06",
   "metadata": {},
   "outputs": [
    {
     "name": "stdout",
     "output_type": "stream",
     "text": [
      "Comparativo de Consumo de Combustível\n",
      "\n",
      "Veículo 1\n",
      "  Nome: fusca\n",
      "  Km por litro: 7\n",
      "Veículo 2\n",
      "  Nome: gol\n",
      "  Km por litro: 10\n",
      "Veículo 3\n",
      "  Nome: uno\n",
      "  Km por litro: 12.5\n",
      "Veículo 4\n",
      "  Nome: vectra\n",
      "  Km por litro: 9\n",
      "Veículo 5\n",
      "  Nome: peugeot\n",
      "  Km por litro: 14.5\n",
      "Veículo 6\n",
      "  Nome: hb20\n",
      "  Km por litro: 14.8\n",
      "\n",
      "Relatório Final:\n",
      "\n",
      "1 - fusca      -  7.0 -  142.9 litros - R$ 741.43\n",
      "2 - gol        - 10.0 -  100.0 litros - R$ 519.00\n",
      "3 - uno        - 12.5 -   80.0 litros - R$ 415.20\n",
      "4 - vectra     -  9.0 -  111.1 litros - R$ 576.67\n",
      "5 - peugeot    - 14.5 -   69.0 litros - R$ 357.93\n",
      "6 - hb20       - 14.8 -   67.6 litros - R$ 350.68\n",
      "\n",
      "O menor consumo é do hb20\n"
     ]
    }
   ],
   "source": [
    "print('Comparativo de Consumo de Combustível\\n')\n",
    "veiculos = ['fusca','gol', 'uno', 'vectra', 'peugeot', 'hb20']\n",
    "autonomias = [7, 10, 12.5, 9, 14.5, 14.8]\n",
    "preco_combustivel = 5.19\n",
    "    \n",
    "for i, item in enumerate(veiculos):\n",
    "    print(f'Veículo {i+1}\\n  Nome: {veiculos[i]}\\n  Km por litro: {autonomias[i]}')\n",
    "print('\\nRelatório Final:\\n')\n",
    "for i, item in enumerate(veiculos):\n",
    "    print('{} - {:10} - {:4.1f} - {:6.1f} litros - R$ {:6.2f}'.format(i+1,veiculos[i],autonomias[i],1000/autonomias[i],1000/autonomias[i]*preco_combustivel))\n",
    "print('\\nO menor consumo é do {}'.format(veiculos[autonomias.index(max(autonomias))]))\n"
   ]
  },
  {
   "cell_type": "markdown",
   "id": "1d0260a3",
   "metadata": {},
   "source": [
    "#### 7. Uma empresa paga seus vendedores com base em comissões. O vendedor recebe \\\\$200 por semana mais 9 por cento de suas vendas brutas daquela semana. Por exemplo, um vendedor que teve vendas brutas de \\\\$3000 em uma semana recebe \\\\$200 mais 9 por cento de \\\\$3000, ou seja, um total de \\\\$470. Escreva um programa (usando um array de contadores) que determine quantos vendedores receberam salários nos seguintes intervalos de valores:\n",
    "<pre>\n",
    "$200 - $299\n",
    "$300 - $399\n",
    "$400 - $499\n",
    "$500 - $599\n",
    "$600 - $699\n",
    "$700 - $799\n",
    "$800 - $899\n",
    "$900 - $999\n",
    "$1000 em diante\n",
    "</pre>\n",
    "\n",
    "Existem várias formas de fazer. Faça primeiro da forma que parecer mais intuitiva para você.\n",
    "\n",
    "Em seguida, caso queira um desafio:\n",
    "Desafio: Crie uma forma para chegar na posição da lista a partir do salário, sem fazer vários ifs aninhados."
   ]
  },
  {
   "cell_type": "code",
   "execution_count": 123,
   "id": "fc6eaae4",
   "metadata": {},
   "outputs": [
    {
     "name": "stdout",
     "output_type": "stream",
     "text": [
      "[90.0, 180.0, 270.0, 360.0, 450.0, 540.0, 495.0, 405.0, 324.0]\n",
      "[290.0, 380.0, 470.0, 560.0, 650.0, 740.0, 695.0, 605.0, 524.0]\n"
     ]
    }
   ],
   "source": [
    "vendas = [1000, 2000, 3000, 4000, 5000, 6000, 5500, 4500, 3600]\n",
    "comissao = []\n",
    "salario = []\n",
    "venda = 0\n",
    "for i in range(len(vendas)):\n",
    "    venda = vendas[i]*0.09\n",
    "    comissao.append(vendas[i]*0.09)\n",
    "    salario.append(200 + comissao[i])\n"
   ]
  }
 ],
 "metadata": {
  "kernelspec": {
   "display_name": "Python 3 (ipykernel)",
   "language": "python",
   "name": "python3"
  },
  "language_info": {
   "codemirror_mode": {
    "name": "ipython",
    "version": 3
   },
   "file_extension": ".py",
   "mimetype": "text/x-python",
   "name": "python",
   "nbconvert_exporter": "python",
   "pygments_lexer": "ipython3",
   "version": "3.9.12"
  }
 },
 "nbformat": 4,
 "nbformat_minor": 5
}
