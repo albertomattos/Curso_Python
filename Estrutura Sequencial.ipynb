{
 "cells": [
  {
   "cell_type": "markdown",
   "id": "bb0f9514",
   "metadata": {},
   "source": [
    "# Lista de Estrutura Sequencial"
   ]
  },
  {
   "cell_type": "markdown",
   "id": "4e7a8c30",
   "metadata": {},
   "source": [
    "#### 1. Faça um Programa que mostre a mensagem (print) \"Alo mundo\" na tela."
   ]
  },
  {
   "cell_type": "code",
   "execution_count": 2,
   "id": "883bfe85",
   "metadata": {},
   "outputs": [
    {
     "name": "stdout",
     "output_type": "stream",
     "text": [
      "Alô Mundo!\n"
     ]
    }
   ],
   "source": [
    "print('Alô Mundo!')"
   ]
  },
  {
   "cell_type": "markdown",
   "id": "71d6d6a2",
   "metadata": {},
   "source": [
    "#### 2. Faça um Programa que peça um número (input) e então mostre a mensagem: \"O número informado foi [número].\""
   ]
  },
  {
   "cell_type": "code",
   "execution_count": 5,
   "id": "30cfffcf",
   "metadata": {},
   "outputs": [
    {
     "name": "stdout",
     "output_type": "stream",
     "text": [
      "Digite um número: 22\n",
      "O número informado foi 22\n"
     ]
    }
   ],
   "source": [
    "num = input('Digite um número: ')\n",
    "print('O número informado foi ' + str(num))"
   ]
  },
  {
   "cell_type": "markdown",
   "id": "c5e43160",
   "metadata": {},
   "source": [
    "#### 3. Faça um Programa que peça dois números e imprima a soma."
   ]
  },
  {
   "cell_type": "code",
   "execution_count": 8,
   "id": "b0e79590",
   "metadata": {},
   "outputs": [
    {
     "name": "stdout",
     "output_type": "stream",
     "text": [
      "Digite o primeiro número: 17\n",
      "Digite o segundo número: 5\n",
      "17 + 5 = 22\n"
     ]
    }
   ],
   "source": [
    "num1 = int(input('Digite o primeiro número: '))\n",
    "num2 = int(input('Digite o segundo número: '))\n",
    "print(f'{num1} + {num2} = {num1+num2}')"
   ]
  },
  {
   "cell_type": "markdown",
   "id": "17826987",
   "metadata": {},
   "source": [
    "#### 4. Faça um Programa que peça as 4 notas bimestrais de um aluno e mostre a média de todas as notas."
   ]
  },
  {
   "cell_type": "code",
   "execution_count": 9,
   "id": "23b66762",
   "metadata": {},
   "outputs": [
    {
     "name": "stdout",
     "output_type": "stream",
     "text": [
      "Nota 1: 7.5\n",
      "Nota 2: 8.2\n",
      "Nota 3: 5.7\n",
      "Nota 4: 7\n",
      "A média foi de 7.1\n"
     ]
    }
   ],
   "source": [
    "n1 = float(input('Nota 1: '))\n",
    "n2 = float(input('Nota 2: '))\n",
    "n3 = float(input('Nota 3: '))\n",
    "n4 = float(input('Nota 4: '))\n",
    "print(f'A média foi de {(n1+n2+n3+n4)/4}')"
   ]
  },
  {
   "cell_type": "markdown",
   "id": "62d461c5",
   "metadata": {},
   "source": [
    "#### 5. Faça um Programa que converta metros para centímetros. Você pode pedir o comprimento em metros para o usuário (input)."
   ]
  },
  {
   "cell_type": "code",
   "execution_count": 11,
   "id": "d642f1ba",
   "metadata": {},
   "outputs": [
    {
     "name": "stdout",
     "output_type": "stream",
     "text": [
      "Digite o comprimento (em m): 5\n",
      "O comprimento é de 500.0 centímetros\n"
     ]
    }
   ],
   "source": [
    "num = float(input('Digite o comprimento (em m): '))\n",
    "print(f'O comprimento é de {num * 100} centímetros')"
   ]
  },
  {
   "cell_type": "markdown",
   "id": "f1311697",
   "metadata": {},
   "source": [
    "#### 7. Faça um Programa que calcule a área de uma sala de um apartamento. Para isso, o seu programa precisa pedir a largura da sala, o comprimento da sala e imprimir a área em m² da sala."
   ]
  },
  {
   "cell_type": "code",
   "execution_count": 13,
   "id": "612ea24b",
   "metadata": {},
   "outputs": [
    {
     "name": "stdout",
     "output_type": "stream",
     "text": [
      "Largura: 3.5\n",
      "Comprimento: 4.8\n",
      "A área é de 16.8 m2.\n"
     ]
    }
   ],
   "source": [
    "l = float(input('Largura: '))\n",
    "c = float(input('Comprimento: '))\n",
    "print(f'A área é de {l * c} m2.')"
   ]
  },
  {
   "cell_type": "markdown",
   "id": "2a285929",
   "metadata": {},
   "source": [
    "#### 8. Faça um Programa que pergunte quanto você ganha por hora e o número de horas trabalhadas no mês. Calcule e mostre o total do seu salário no referido mês."
   ]
  },
  {
   "cell_type": "code",
   "execution_count": 22,
   "id": "359e2232",
   "metadata": {},
   "outputs": [
    {
     "name": "stdout",
     "output_type": "stream",
     "text": [
      "Valor (em R$) da hora: 3.758\n",
      "Horas trabalhadas no mês: 210.5\n",
      "Seu salário é de R$ 791.06\n"
     ]
    }
   ],
   "source": [
    "hora = float(input('Valor (em R$) da hora: '))\n",
    "hr_trab = float(input('Horas trabalhadas no mês: '))\n",
    "salario = round((hora * hr_trab),2)\n",
    "print(f'Seu salário é de R$ {salario}')"
   ]
  },
  {
   "cell_type": "markdown",
   "id": "7e2d4615",
   "metadata": {},
   "source": [
    "#### 9. Vamos criar um conversor de temperatura. Faça um Programa que peça a temperatura em graus Fahrenheit, transforme e mostre a temperatura em graus Celsius.\n",
    "$C = \\frac{5}{9}(F-32)$"
   ]
  },
  {
   "cell_type": "code",
   "execution_count": 29,
   "id": "82daf9fd",
   "metadata": {},
   "outputs": [
    {
     "name": "stdout",
     "output_type": "stream",
     "text": [
      "Digite a temperatura em Fahrenheit: 97.7\n",
      "Fahrenheit = 97.7\n",
      "Celsius = 36.5\n"
     ]
    }
   ],
   "source": [
    "far = float(input('Digite a temperatura em Fahrenheit: '))\n",
    "celsius = round(((far - 32.00) * 5.00/9.00),2)\n",
    "print(f'Fahrenheit = {far}\\nCelsius = {celsius}')"
   ]
  },
  {
   "cell_type": "markdown",
   "id": "20708b1c",
   "metadata": {},
   "source": [
    "#### 10. Faça um Programa que peça a temperatura em graus Celsius, transforme e mostre em graus Fahrenheit.\n",
    "$F = \\frac{9}{5}C + 32$"
   ]
  },
  {
   "cell_type": "code",
   "execution_count": 28,
   "id": "c73cfb38",
   "metadata": {},
   "outputs": [
    {
     "name": "stdout",
     "output_type": "stream",
     "text": [
      "Digit a temperatura em Celsius: 36.5\n",
      "Fahrenheit = 97.7\n",
      "Celsius = 36.5\n"
     ]
    }
   ],
   "source": [
    "celsius = float(input('Digit a temperatura em Celsius: '))\n",
    "far = round((celsius * 9/5 + 32),2)\n",
    "print(f'Fahrenheit = {far}\\nCelsius = {celsius}')"
   ]
  },
  {
   "cell_type": "markdown",
   "id": "b263a9dc",
   "metadata": {},
   "source": [
    "#### 12. Tendo como dados de entrada a altura (h) de uma pessoa, construa um algoritmo que calcule seu peso ideal, usando a seguinte fórmula:\n",
    "$P = 72,7h - 58$\n",
    "\n",
    "Lembrando que \"algoritmo\" nada mais é do que um programa, como todos os outros que você vem fazendo"
   ]
  },
  {
   "cell_type": "code",
   "execution_count": 34,
   "id": "9a9b8dca",
   "metadata": {},
   "outputs": [
    {
     "name": "stdout",
     "output_type": "stream",
     "text": [
      "Digite a altura: 1.79\n",
      "Seu peso ideal é de 72.13 kg.\n"
     ]
    }
   ],
   "source": [
    "h = float(input('Digite a altura: '))\n",
    "p = round((72.7 * h - 58),2)\n",
    "print(f'Seu peso ideal é de {p} kg.')"
   ]
  },
  {
   "cell_type": "markdown",
   "id": "13bb40d7",
   "metadata": {},
   "source": [
    "#### 13. Tendo como dado de entrada a altura (h) de uma pessoa, construa um algoritmo que calcule seu peso ideal, utilizando as seguintes fórmulas:\n",
    "##### a. Para homens: $P = 72,7h - 58$\n",
    "##### b. Para mulheres: $P = 62,1h - 44,7$"
   ]
  },
  {
   "cell_type": "code",
   "execution_count": 37,
   "id": "bf82dc8c",
   "metadata": {},
   "outputs": [
    {
     "name": "stdout",
     "output_type": "stream",
     "text": [
      "Digite a altura: 1.6\n",
      "Seu peso ideal é de 58.32 kg, se for homem ou 54.66 kg, se for mulher.\n"
     ]
    }
   ],
   "source": [
    "h = float(input('Digite a altura: '))\n",
    "ph = round((72.7 * h - 58),2)\n",
    "pm = round((62.1 * h - 44.7),2)\n",
    "print(f'Seu peso ideal é de {ph} kg, se for homem ou {pm} kg, se for mulher.')"
   ]
  },
  {
   "cell_type": "markdown",
   "id": "f208ef89",
   "metadata": {},
   "source": [
    "#### 15. Faça um Programa que pergunte quanto você ganha por hora e o número de horas trabalhadas no mês."
   ]
  },
  {
   "cell_type": "code",
   "execution_count": 39,
   "id": "2d5b23e0",
   "metadata": {},
   "outputs": [
    {
     "name": "stdout",
     "output_type": "stream",
     "text": [
      "Quanto ganha por hora? 2.8\n",
      "Quantas horas trabalhou? 200\n",
      "2.8 200\n",
      "560.0\n"
     ]
    }
   ],
   "source": [
    "sal_hora = float(input('Quanto ganha por hora? '))\n",
    "hora_trab = int(input('Quantas horas trabalhou? '))\n",
    "print (sal_hora, hora_trab)\n",
    "print (sal_hora * hora_trab)"
   ]
  },
  {
   "cell_type": "markdown",
   "id": "607dee3c",
   "metadata": {},
   "source": [
    "#####  Calcule o salário bruto (horas * salario por hora)"
   ]
  },
  {
   "cell_type": "code",
   "execution_count": 40,
   "id": "7f80ccbb",
   "metadata": {},
   "outputs": [
    {
     "name": "stdout",
     "output_type": "stream",
     "text": [
      "Quanto ganha por hora? 15.5\n",
      "Quantas horas trabalhou? 220\n",
      "Salário bruto: R$ 3410.0\n"
     ]
    }
   ],
   "source": [
    "sal_hora = float(input('Quanto ganha por hora? '))\n",
    "hora_trab = int(input('Quantas horas trabalhou? '))\n",
    "print (f'Salário bruto: R$ {sal_hora * hora_trab}')"
   ]
  },
  {
   "cell_type": "markdown",
   "id": "2ed93cb0",
   "metadata": {},
   "source": [
    "##### Calcule o desconto do IR (11% do salário bruto)"
   ]
  },
  {
   "cell_type": "code",
   "execution_count": 41,
   "id": "3363e22f",
   "metadata": {},
   "outputs": [
    {
     "name": "stdout",
     "output_type": "stream",
     "text": [
      "Quanto ganha por hora? 15.5\n",
      "Quantas horas trabalhou? 220\n",
      "Desconto de IR: R$ 375.1\n"
     ]
    }
   ],
   "source": [
    "sal_hora = float(input('Quanto ganha por hora? '))\n",
    "hora_trab = int(input('Quantas horas trabalhou? '))\n",
    "sal_bruto = sal_hora * hora_trab\n",
    "ir = sal_bruto * 0.11\n",
    "print(f'Desconto de IR: R$ {ir}')"
   ]
  },
  {
   "cell_type": "markdown",
   "id": "0994b2c0",
   "metadata": {},
   "source": [
    "##### Calcule o desconto do INSS (8% do salário bruto)"
   ]
  },
  {
   "cell_type": "code",
   "execution_count": 42,
   "id": "748c6088",
   "metadata": {},
   "outputs": [
    {
     "name": "stdout",
     "output_type": "stream",
     "text": [
      "Quanto ganha por hora? 15.5\n",
      "Quantas horas trabalhou? 220\n",
      "Desconto de INSS: R$ 272.8\n"
     ]
    }
   ],
   "source": [
    "sal_hora = float(input('Quanto ganha por hora? '))\n",
    "hora_trab = int(input('Quantas horas trabalhou? '))\n",
    "sal_bruto = sal_hora * hora_trab\n",
    "ir = sal_bruto * 0.11\n",
    "inss = sal_bruto * 0.08\n",
    "print(f'Desconto de INSS: R$ {inss}')"
   ]
  },
  {
   "cell_type": "markdown",
   "id": "06e8dae4",
   "metadata": {},
   "source": [
    "##### Calcule o desconto do sindicato (5% do salário bruto)"
   ]
  },
  {
   "cell_type": "code",
   "execution_count": null,
   "id": "21b95b15",
   "metadata": {
    "scrolled": true
   },
   "outputs": [],
   "source": [
    "sal_hora = float(input('Quanto ganha por hora? '))\n",
    "hora_trab = int(input('Quantas horas trabalhou? '))\n",
    "sal_bruto = sal_hora * hora_trab\n",
    "ir = sal_bruto * 0.11\n",
    "inss = sal_bruto * 0.08\n",
    "sind = sal_bruto * 0.05"
   ]
  },
  {
   "cell_type": "markdown",
   "id": "bb14ce36",
   "metadata": {},
   "source": [
    "##### Calcule o salário líquido (salário bruto - descontos)"
   ]
  },
  {
   "cell_type": "code",
   "execution_count": 45,
   "id": "56317086",
   "metadata": {},
   "outputs": [
    {
     "name": "stdout",
     "output_type": "stream",
     "text": [
      "Quanto ganha por hora? 25\n",
      "Quantas horas trabalhou? 220\n",
      "Salário líquido: R$ 5500.0\n",
      "Desconto de IR: R$ 605.0\n",
      "Desconto de INSS: R$ 440.0\n",
      "Desconto de Sindicato: R$ 275.0\n",
      "Salário líquido: R$ 4180.0\n"
     ]
    }
   ],
   "source": [
    "sal_hora = float(input('Quanto ganha por hora? '))\n",
    "hora_trab = int(input('Quantas horas trabalhou? '))\n",
    "sal_bruto = sal_hora * hora_trab\n",
    "ir = sal_bruto * 0.11\n",
    "inss = sal_bruto * 0.08\n",
    "sind = sal_bruto * 0.05\n",
    "sal_liq = sal_bruto - ir - inss - sind\n",
    "print(f'Salário líquido: R$ {sal_hora * hora_trab}')\n",
    "print(f'Desconto de IR: R$ {ir}')\n",
    "print(f'Desconto de INSS: R$ {inss}')\n",
    "print(f'Desconto de Sindicato: R$ {sind}')\n",
    "print(f'Salário líquido: R$ {sal_liq}')"
   ]
  },
  {
   "cell_type": "markdown",
   "id": "cfbfcc87",
   "metadata": {},
   "source": [
    "#### 16. Faça um programa para uma loja de tintas. O programa deverá pedir o tamanho em metros quadrados da área a ser pintada. Considere que a cobertura da tinta é de 1 litro para cada 3 metros quadrados e que a tinta é vendida em latas de 18 litros, que custam R\\$ 80,00. Informe ao usuário a quantidades de latas de tinta a serem compradas e o preço total. (para simplificação nesse momento, não se preocupe em arredondar a quantidade de latas a serem compradas - vamos trabalhar isso em breve)"
   ]
  },
  {
   "cell_type": "code",
   "execution_count": 55,
   "id": "fb6a083b",
   "metadata": {},
   "outputs": [
    {
     "name": "stdout",
     "output_type": "stream",
     "text": [
      "Área: 85\n",
      "Para essa cobertura de 85.0 m2, você deve comprar 2 lata(s) e custará R$ 160\n"
     ]
    }
   ],
   "source": [
    "import math\n",
    "area = float(input('Área: '))\n",
    "cob = area / 3\n",
    "lata = cob / 18\n",
    "lata_cobrar = math.ceil(lata)\n",
    "print(f'Para essa cobertura de {area} m2, você deve comprar {lata_cobrar} lata(s) e custará R$ {80 * lata_cobrar}.')"
   ]
  },
  {
   "cell_type": "markdown",
   "id": "d6503c92",
   "metadata": {},
   "source": [
    "#### 18. Faça um programa que peça o tamanho de um arquivo para download (em MB) e a velocidade de um link de Internet (em Mbps), calcule e informe o tempo aproximado de download do arquivo usando este link (em minutos).\n",
    "\n",
    "Detalhe: MB significa megabyte, Mb (com b minúsculo) significa megabit. Um megabit é 1/8 de um megabyte. "
   ]
  },
  {
   "cell_type": "code",
   "execution_count": 65,
   "id": "0563aa62",
   "metadata": {},
   "outputs": [
    {
     "name": "stdout",
     "output_type": "stream",
     "text": [
      "Qual o tamanho do arquivo (em MB)? 100\n",
      "Qual a velocidade do link (em Mbps? 1\n",
      "Tempo aproximado de download (em minutos): 13.33 minutos\n"
     ]
    }
   ],
   "source": [
    "tam = float(input('Qual o tamanho do arquivo (em MB)? '))\n",
    "link = int(input('Qual a velocidade do link (em Mbps? '))\n",
    "down = tam * 8\n",
    "print(f'Tempo aproximado de download (em minutos): {round((tam*8/link/60),2)} minutos')"
   ]
  }
 ],
 "metadata": {
  "kernelspec": {
   "display_name": "Python 3 (ipykernel)",
   "language": "python",
   "name": "python3"
  },
  "language_info": {
   "codemirror_mode": {
    "name": "ipython",
    "version": 3
   },
   "file_extension": ".py",
   "mimetype": "text/x-python",
   "name": "python",
   "nbconvert_exporter": "python",
   "pygments_lexer": "ipython3",
   "version": "3.9.12"
  }
 },
 "nbformat": 4,
 "nbformat_minor": 5
}
