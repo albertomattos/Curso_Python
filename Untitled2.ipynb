{
 "cells": [
  {
   "cell_type": "code",
   "execution_count": null,
   "id": "bf600998",
   "metadata": {},
   "outputs": [],
   "source": [
    "import random \n",
    "test_list = [2.17,1.54,1.45,1.94,2.37,2.3,1.79,1.8,2.25,1.37]\n",
    "print (f'Original list is : {test_list}') \n",
    "random_num = random.choice(test_list)\n",
    "ramdom_index = test_list.index[0]\n",
    "print (\"Random selected number is : \" + str(random_num))\n",
    "print(ramdom_index)"
   ]
  },
  {
   "cell_type": "code",
   "execution_count": 14,
   "id": "17ea152c",
   "metadata": {},
   "outputs": [
    {
     "name": "stdout",
     "output_type": "stream",
     "text": [
      "Original list is : [1, 4, 5, 2, 7]\n",
      "Random selected number is : 7\n"
     ]
    }
   ],
   "source": [
    "import random \n",
    "test_list = [1, 4, 5, 2, 7] \n",
    "print (\"Original list is : \" + str(test_list)) \n",
    "rand_idx = random.randrange(len(test_list)) \n",
    "random_num = test_list[rand_idx] \n",
    "print (\"Random selected number is : \" + str(random_num)) "
   ]
  },
  {
   "cell_type": "code",
   "execution_count": null,
   "id": "c7225fd3",
   "metadata": {},
   "outputs": [],
   "source": []
  },
  {
   "cell_type": "code",
   "execution_count": null,
   "id": "d77c5e96",
   "metadata": {},
   "outputs": [],
   "source": []
  }
 ],
 "metadata": {
  "kernelspec": {
   "display_name": "Python 3 (ipykernel)",
   "language": "python",
   "name": "python3"
  },
  "language_info": {
   "codemirror_mode": {
    "name": "ipython",
    "version": 3
   },
   "file_extension": ".py",
   "mimetype": "text/x-python",
   "name": "python",
   "nbconvert_exporter": "python",
   "pygments_lexer": "ipython3",
   "version": "3.9.12"
  }
 },
 "nbformat": 4,
 "nbformat_minor": 5
}
