{
 "cells": [
  {
   "cell_type": "code",
   "execution_count": 11,
   "id": "4bd571e5",
   "metadata": {},
   "outputs": [
    {
     "name": "stdout",
     "output_type": "stream",
     "text": [
      "O lucro foi de 500\n",
      "O lucro foi de 500\n",
      "O lucro foi de 500\n",
      "O faturamento foi de 1000 e o lucro foi de 500\n",
      "O faturamento foi de 1000 e o lucro foi de 500\n",
      "O faturamento foi de 1000 e o lucro foi de 500\n"
     ]
    }
   ],
   "source": [
    "faturamento = 1000\n",
    "custo = 500\n",
    "lucro = faturamento - custo\n",
    "print(f'O lucro foi de {lucro}')\n",
    "print('O lucro foi de ' + str(lucro))\n",
    "print('O lucro foi de {}'.format(lucro))\n",
    "\n",
    "print(f'O faturamento foi de {faturamento} e o lucro foi de {lucro}')\n",
    "print('O faturamento foi de ' + str(faturamento) + ' e o lucro foi de ' + str(lucro))\n",
    "print('O faturamento foi de {} e o lucro foi de {}'.format(faturamento,lucro))\n"
   ]
  }
 ],
 "metadata": {
  "kernelspec": {
   "display_name": "Python 3 (ipykernel)",
   "language": "python",
   "name": "python3"
  },
  "language_info": {
   "codemirror_mode": {
    "name": "ipython",
    "version": 3
   },
   "file_extension": ".py",
   "mimetype": "text/x-python",
   "name": "python",
   "nbconvert_exporter": "python",
   "pygments_lexer": "ipython3",
   "version": "3.9.12"
  }
 },
 "nbformat": 4,
 "nbformat_minor": 5
}
