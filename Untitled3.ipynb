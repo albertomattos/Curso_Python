{
 "cells": [
  {
   "cell_type": "code",
   "execution_count": 6,
   "id": "7118d7a1",
   "metadata": {},
   "outputs": [],
   "source": [
    "def somar(num1, num2, num3):\n",
    "    if type(num1) != int or type(num2) != int or type(num3) != int:\n",
    "        return('Todos os números precisam ser inteiros.')\n",
    "    else:\n",
    "        soma = num1 + num2 + num3\n",
    "    return (soma)"
   ]
  },
  {
   "cell_type": "code",
   "execution_count": 7,
   "id": "289408aa",
   "metadata": {},
   "outputs": [
    {
     "name": "stdout",
     "output_type": "stream",
     "text": [
      "Todos os números precisam ser inteiros.\n"
     ]
    }
   ],
   "source": [
    "soma = somar(15,20.2,12)\n",
    "print(soma)"
   ]
  },
  {
   "cell_type": "code",
   "execution_count": null,
   "id": "aff22348",
   "metadata": {},
   "outputs": [],
   "source": []
  }
 ],
 "metadata": {
  "kernelspec": {
   "display_name": "Python 3 (ipykernel)",
   "language": "python",
   "name": "python3"
  },
  "language_info": {
   "codemirror_mode": {
    "name": "ipython",
    "version": 3
   },
   "file_extension": ".py",
   "mimetype": "text/x-python",
   "name": "python",
   "nbconvert_exporter": "python",
   "pygments_lexer": "ipython3",
   "version": "3.9.12"
  }
 },
 "nbformat": 4,
 "nbformat_minor": 5
}
