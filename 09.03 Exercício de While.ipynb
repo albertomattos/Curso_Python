{
 "cells": [
  {
   "cell_type": "markdown",
   "metadata": {},
   "source": [
    "# Exercícios\n",
    "\n",
    "## 1. Input até o usuário parar\n",
    "\n",
    "Vamos criar um sistema de vendas. Nosso programa deve registrar os produtos e as quantidades (2 inputs) e adicionar em uma lista.\n",
    "\n",
    "O programa deve continuar rodando até o input ser vazio, ou seja, o usuário apertar enter sem digitar nenhum produto ou quantidade.\n",
    "\n",
    "Ao final do programa, ele deve printar todos os produtos e quantidades vendidas.\n",
    "\n",
    "Obs: Caso queira, para o print ficar mais visual, pode usar o join para cada item ser printado em uma linha.\n",
    "Sugestão para sua lista de produtos vendidos:"
   ]
  },
  {
   "cell_type": "raw",
   "metadata": {},
   "source": [
    "vendas = [\n",
    "    ['maçã', 5],\n",
    "    ['banana', 15],\n",
    "    ['azeite', 1],\n",
    "    ['vinho', 3],\n",
    "]"
   ]
  },
  {
   "cell_type": "code",
   "execution_count": 17,
   "metadata": {},
   "outputs": [
    {
     "name": "stdout",
     "output_type": "stream",
     "text": [
      "Digite o produto: maça\n",
      "Digite a quantidade: 1\n",
      "Digite o produto: uva\n",
      "Digite a quantidade: 3\n",
      "Digite o produto: \n",
      "Digite a quantidade: \n",
      "[['maça', '1'], ['uva', '3']]\n"
     ]
    }
   ],
   "source": [
    "#seu código aqui\n",
    "vendas = []\n",
    "prod = '1'\n",
    "qtde = '1'\n",
    "while prod != '' and qtde != '':\n",
    "    prod = input ('Digite o produto: ')\n",
    "    qtde = int(input ('Digite a quantidade: '))\n",
    "    if prod != '' and qtde != '':\n",
    "        vendas.append([prod,qtde])\n",
    "\n",
    "print(vendas)"
   ]
  },
  {
   "cell_type": "code",
   "execution_count": 46,
   "metadata": {},
   "outputs": [
    {
     "name": "stdout",
     "output_type": "stream",
     "text": [
      "Digite o produto: maçã\n",
      "Digite a quantidade: 2\n",
      "Digite o produto: vinho\n",
      "Digite a quantidade: 8\n",
      "Digite o produto: banana\n",
      "Digite a quantidade: 15\n",
      "Digite o produto: melancia\n",
      "Digite a quantidade: 6\n",
      "Digite o produto: uva\n",
      "Digite a quantidade: 3\n",
      "Digite o produto: pera\n",
      "Digite a quantidade: 20\n",
      "Digite o produto: \n",
      "[['maçã', 2], ['vinho', 8], ['banana', 15], ['melancia', 6], ['uva', 3], ['pera', 20]]\n"
     ]
    }
   ],
   "source": [
    "vendas = []\n",
    "while True:\n",
    "    prod = input ('Digite o produto: ')\n",
    "    if not prod:\n",
    "        break\n",
    "    qtde = int(input ('Digite a quantidade: '))\n",
    "    vendas.append([prod,qtde])\n",
    "print(vendas)"
   ]
  },
  {
   "cell_type": "code",
   "execution_count": 47,
   "metadata": {},
   "outputs": [
    {
     "name": "stdout",
     "output_type": "stream",
     "text": [
      "['maçã', 2]\n",
      "['vinho', 8]\n",
      "['banana', 15]\n",
      "['melancia', 6]\n",
      "['uva', 3]\n",
      "['pera', 20]\n"
     ]
    }
   ],
   "source": [
    "for i in range(len(vendas)):\n",
    "    print(vendas[i])"
   ]
  },
  {
   "cell_type": "markdown",
   "metadata": {},
   "source": [
    "### Obs: Podemos fazer o While de 2 maneiras:\n",
    "\n",
    "1. While com a condição que finalize o programa\n",
    "2. While rodando para sempre, mas com uma condição dentro do while que dê um break no código.\n",
    "\n",
    "Vamos mostrar as 2 opções"
   ]
  }
 ],
 "metadata": {
  "kernelspec": {
   "display_name": "Python 3 (ipykernel)",
   "language": "python",
   "name": "python3"
  },
  "language_info": {
   "codemirror_mode": {
    "name": "ipython",
    "version": 3
   },
   "file_extension": ".py",
   "mimetype": "text/x-python",
   "name": "python",
   "nbconvert_exporter": "python",
   "pygments_lexer": "ipython3",
   "version": "3.9.12"
  }
 },
 "nbformat": 4,
 "nbformat_minor": 4
}
